{
 "cells": [
  {
   "cell_type": "markdown",
   "id": "91b94873",
   "metadata": {},
   "source": [
    "#  Arithmetic and Variable Assignment"
   ]
  },
  {
   "cell_type": "raw",
   "id": "ab018492",
   "metadata": {},
   "source": [
    "We can use Python for calculations. For this, we first need to load the appropriae libraries. In our case, numpy"
   ]
  },
  {
   "cell_type": "code",
   "execution_count": 1,
   "id": "4b17161f",
   "metadata": {},
   "outputs": [],
   "source": [
    "import numpy as np"
   ]
  },
  {
   "cell_type": "code",
   "execution_count": 2,
   "id": "8a9f9bb8",
   "metadata": {},
   "outputs": [
    {
     "data": {
      "text/plain": [
       "2"
      ]
     },
     "execution_count": 2,
     "metadata": {},
     "output_type": "execute_result"
    }
   ],
   "source": [
    "1+1"
   ]
  },
  {
   "cell_type": "code",
   "execution_count": 3,
   "id": "2d5ae532",
   "metadata": {},
   "outputs": [
    {
     "data": {
      "text/plain": [
       "21"
      ]
     },
     "execution_count": 3,
     "metadata": {},
     "output_type": "execute_result"
    }
   ],
   "source": [
    "3*7"
   ]
  },
  {
   "cell_type": "code",
   "execution_count": 4,
   "id": "487c9a8e",
   "metadata": {},
   "outputs": [
    {
     "data": {
      "text/plain": [
       "2.3333333333333335"
      ]
     },
     "execution_count": 4,
     "metadata": {},
     "output_type": "execute_result"
    }
   ],
   "source": [
    "7/3"
   ]
  },
  {
   "cell_type": "code",
   "execution_count": 5,
   "id": "9d2ec3c7",
   "metadata": {},
   "outputs": [
    {
     "data": {
      "text/plain": [
       "8"
      ]
     },
     "execution_count": 5,
     "metadata": {},
     "output_type": "execute_result"
    }
   ],
   "source": [
    "2**3"
   ]
  },
  {
   "cell_type": "code",
   "execution_count": 6,
   "id": "db1913c3",
   "metadata": {},
   "outputs": [
    {
     "data": {
      "text/plain": [
       "7.38905609893065"
      ]
     },
     "execution_count": 6,
     "metadata": {},
     "output_type": "execute_result"
    }
   ],
   "source": [
    "np.exp(2)"
   ]
  },
  {
   "cell_type": "code",
   "execution_count": 7,
   "id": "de793ba0",
   "metadata": {},
   "outputs": [
    {
     "data": {
      "text/plain": [
       "0.6931471805599453"
      ]
     },
     "execution_count": 7,
     "metadata": {},
     "output_type": "execute_result"
    }
   ],
   "source": [
    "np.log(2)"
   ]
  },
  {
   "cell_type": "code",
   "execution_count": 8,
   "id": "9676cbce",
   "metadata": {},
   "outputs": [
    {
     "data": {
      "text/plain": [
       "2.23606797749979"
      ]
     },
     "execution_count": 8,
     "metadata": {},
     "output_type": "execute_result"
    }
   ],
   "source": [
    "np.sqrt(5)"
   ]
  },
  {
   "cell_type": "code",
   "execution_count": 9,
   "id": "c8647287",
   "metadata": {},
   "outputs": [
    {
     "data": {
      "text/plain": [
       "3.141592653589793"
      ]
     },
     "execution_count": 9,
     "metadata": {},
     "output_type": "execute_result"
    }
   ],
   "source": [
    "np.pi"
   ]
  },
  {
   "cell_type": "code",
   "execution_count": 10,
   "id": "99098667",
   "metadata": {},
   "outputs": [],
   "source": [
    "pi = 3.141592653589793"
   ]
  },
  {
   "cell_type": "code",
   "execution_count": 11,
   "id": "e3b81dc4",
   "metadata": {},
   "outputs": [
    {
     "data": {
      "text/plain": [
       "3.141592653589793"
      ]
     },
     "execution_count": 11,
     "metadata": {},
     "output_type": "execute_result"
    }
   ],
   "source": [
    "pi"
   ]
  },
  {
   "cell_type": "raw",
   "id": "bf901ddc",
   "metadata": {},
   "source": [
    "You can’t get very far without storing results of your computations to variables. This is done as follows:"
   ]
  },
  {
   "cell_type": "code",
   "execution_count": 12,
   "id": "bfe567f3",
   "metadata": {},
   "outputs": [],
   "source": [
    "x = np.sqrt(2)"
   ]
  },
  {
   "cell_type": "raw",
   "id": "03c287db",
   "metadata": {},
   "source": [
    "If you want to see what value is stored in a variable, you can\n",
    "1) type the variable name,\n",
    "2) type print(x)"
   ]
  },
  {
   "cell_type": "code",
   "execution_count": 13,
   "id": "ef250602",
   "metadata": {},
   "outputs": [
    {
     "name": "stdout",
     "output_type": "stream",
     "text": [
      "1.4142135623730951\n"
     ]
    }
   ],
   "source": [
    "print(x)"
   ]
  },
  {
   "cell_type": "raw",
   "id": "574bf258",
   "metadata": {},
   "source": [
    "In Python, variable names must adhere to certain rules. Here are the key rules for assigning names to variables in Python:\n",
    "\n",
    "1) Valid Characters: Variable names can only contain letters (a-z, A-Z), digits (0-9), and underscores (_). They cannot start with a digit.\n",
    "\n",
    "2) Case-Sensitivity: Python is case-sensitive. This means that variables with different capitalization are treated as different variables. For example, myVariable and myvariable are distinct.\n",
    "\n",
    "3) Reserved Keywords: Avoid using Python keywords as variable names. Keywords are reserved for specific purposes, and you cannot use them for your variable names. Examples of keywords include if, else, for, while, True, False, None, etc.\n",
    "Descriptive and Readable:\n",
    "\n",
    "4) Choose meaningful and descriptive names for your variables. This makes your code more readable and helps others understand the purpose of each variable.\n",
    "Avoid Built-in Functions:\n",
    "\n",
    "5) While it's not strictly forbidden, it's generally a good practice to avoid naming your variables after built-in functions or commonly used modules to prevent potential conflicts. For example, don't name a variable print or list."
   ]
  },
  {
   "cell_type": "code",
   "execution_count": 17,
   "id": "5dad9fbf",
   "metadata": {},
   "outputs": [],
   "source": [
    "# Valid variable names\n",
    "height = 5.9\n",
    "user_age = 25\n",
    "total_students = 100\n",
    "my_variable_1 = \"Hello\"\n",
    "\n",
    "# Invalid variable names\n",
    "#2nd_attempt = \"Invalid\"  # Starts with a digit\n",
    "#user-age = 30  # Contains invalid character \"-\"\n",
    "#for = 5  # Uses a reserved keyword"
   ]
  },
  {
   "cell_type": "raw",
   "id": "846313c6",
   "metadata": {},
   "source": [
    "Note that there is a big difference between typing x + 2 (which computes the value of x + 2 and displays it on the screen) and typing x = x + 2, which computes the value of x + 2 and stores the new value back in x"
   ]
  },
  {
   "cell_type": "markdown",
   "id": "2aec92d0",
   "metadata": {},
   "source": [
    "### Vectors and matrices"
   ]
  },
  {
   "cell_type": "raw",
   "id": "8168cfb3",
   "metadata": {},
   "source": [
    "Data often takes the form of lists of values, rather than single values. We need to be able to store lists of values in order to be able to work with them. In Python, you can represent a vector using various data structures. One common way is to use a list or a NumPy array."
   ]
  },
  {
   "cell_type": "code",
   "execution_count": 18,
   "id": "8bf11ac0",
   "metadata": {},
   "outputs": [
    {
     "name": "stdout",
     "output_type": "stream",
     "text": [
      "Vector using list: [2.0, 4.5, 1.3, 7.0]\n",
      "First element: 2.0\n",
      "Second element: 4.5\n"
     ]
    }
   ],
   "source": [
    "# Using a list to represent a vector\n",
    "vector_list = [2.0, 4.5, 1.3, 7.0]\n",
    "words_list = ['red', 'blue', 'green']\n",
    "\n",
    "# Accessing elements\n",
    "print(\"Vector using list:\", vector_list)\n",
    "print(\"First element:\", vector_list[0])\n",
    "print(\"Second element:\", vector_list[1])"
   ]
  },
  {
   "cell_type": "code",
   "execution_count": 19,
   "id": "a6992c7e",
   "metadata": {},
   "outputs": [
    {
     "name": "stdout",
     "output_type": "stream",
     "text": [
      "Vector using NumPy array: [2.  4.5 1.3 7. ]\n",
      "First element: 2.0\n",
      "Second element: 4.5\n"
     ]
    }
   ],
   "source": [
    "# Using a NumPy array to represent a vector\n",
    "# Creating a NumPy array from a list\n",
    "vector_np = np.array([2.0, 4.5, 1.3, 7.0])\n",
    "\n",
    "# Accessing elements\n",
    "print(\"Vector using NumPy array:\", vector_np)\n",
    "print(\"First element:\", vector_np[0])\n",
    "print(\"Second element:\", vector_np[1])"
   ]
  },
  {
   "cell_type": "raw",
   "id": "0c3d3f96",
   "metadata": {},
   "source": [
    "In numpy there are in-built functions to make it easier to create vectors and matrices"
   ]
  },
  {
   "cell_type": "code",
   "execution_count": 28,
   "id": "5ddec42c",
   "metadata": {},
   "outputs": [],
   "source": [
    "# Creating a NumPy array of zeros\n",
    "v1 = np.zeros((3,2))"
   ]
  },
  {
   "cell_type": "code",
   "execution_count": 30,
   "id": "aa4fa3cc",
   "metadata": {},
   "outputs": [
    {
     "name": "stdout",
     "output_type": "stream",
     "text": [
      "[[0. 0.]\n",
      " [0. 0.]\n",
      " [0. 0.]]\n"
     ]
    }
   ],
   "source": [
    "print(v1)"
   ]
  },
  {
   "cell_type": "code",
   "execution_count": 25,
   "id": "bead9957",
   "metadata": {},
   "outputs": [
    {
     "name": "stdout",
     "output_type": "stream",
     "text": [
      "[0. 0.]\n"
     ]
    }
   ],
   "source": [
    "v2 = np.zeros(2)\n",
    "print(v2)"
   ]
  },
  {
   "cell_type": "code",
   "execution_count": 46,
   "id": "b2ec22e3",
   "metadata": {},
   "outputs": [],
   "source": [
    "v2[1] = 3"
   ]
  },
  {
   "cell_type": "code",
   "execution_count": 47,
   "id": "5c0b7cba",
   "metadata": {},
   "outputs": [
    {
     "data": {
      "text/plain": [
       "array([0., 3.])"
      ]
     },
     "execution_count": 47,
     "metadata": {},
     "output_type": "execute_result"
    }
   ],
   "source": [
    "v2"
   ]
  },
  {
   "cell_type": "code",
   "execution_count": 38,
   "id": "033fff8a",
   "metadata": {},
   "outputs": [
    {
     "data": {
      "text/plain": [
       "2"
      ]
     },
     "execution_count": 38,
     "metadata": {},
     "output_type": "execute_result"
    }
   ],
   "source": [
    "# access the length of v2 (works for vectors)\n",
    "len(v2)"
   ]
  },
  {
   "cell_type": "code",
   "execution_count": 29,
   "id": "1b00b3b9",
   "metadata": {},
   "outputs": [
    {
     "data": {
      "text/plain": [
       "((3, 2), (2,))"
      ]
     },
     "execution_count": 29,
     "metadata": {},
     "output_type": "execute_result"
    }
   ],
   "source": [
    "# access the shape (shape is tuple)\n",
    "v1.shape, v2.shape"
   ]
  },
  {
   "cell_type": "code",
   "execution_count": 31,
   "id": "a6ef3fac",
   "metadata": {},
   "outputs": [
    {
     "data": {
      "text/plain": [
       "array([[1., 1.],\n",
       "       [1., 1.],\n",
       "       [1., 1.]])"
      ]
     },
     "execution_count": 31,
     "metadata": {},
     "output_type": "execute_result"
    }
   ],
   "source": [
    "# Creating a NumPy array of ones\n",
    "np.ones((3,2))"
   ]
  },
  {
   "cell_type": "code",
   "execution_count": 32,
   "id": "7cf26bb2",
   "metadata": {},
   "outputs": [
    {
     "data": {
      "text/plain": [
       "array([[1., 0., 0., 0., 0.],\n",
       "       [0., 1., 0., 0., 0.],\n",
       "       [0., 0., 1., 0., 0.],\n",
       "       [0., 0., 0., 1., 0.],\n",
       "       [0., 0., 0., 0., 1.]])"
      ]
     },
     "execution_count": 32,
     "metadata": {},
     "output_type": "execute_result"
    }
   ],
   "source": [
    "# identity matrix\n",
    "np.eye(5)"
   ]
  },
  {
   "cell_type": "code",
   "execution_count": 34,
   "id": "2491961a",
   "metadata": {},
   "outputs": [
    {
     "data": {
      "text/plain": [
       "array([0. , 0.1, 0.2, 0.3, 0.4, 0.5, 0.6, 0.7, 0.8, 0.9, 1. ])"
      ]
     },
     "execution_count": 34,
     "metadata": {},
     "output_type": "execute_result"
    }
   ],
   "source": [
    "# Creating a NumPy array with evenly spaced values\n",
    "np.linspace(0, 1, 11)"
   ]
  },
  {
   "cell_type": "code",
   "execution_count": 36,
   "id": "d72a9554",
   "metadata": {},
   "outputs": [
    {
     "data": {
      "text/plain": [
       "array([1, 2, 3, 4, 5, 6, 7, 8, 9])"
      ]
     },
     "execution_count": 36,
     "metadata": {},
     "output_type": "execute_result"
    }
   ],
   "source": [
    "# Creating a NumPy array with a range of values\n",
    "np.arange(1, 10, 1)"
   ]
  },
  {
   "cell_type": "code",
   "execution_count": 39,
   "id": "0c84680f",
   "metadata": {
    "scrolled": true
   },
   "outputs": [],
   "source": [
    "# Creating a NumPy array with random values\n",
    "A = np.random.rand(3, 3)"
   ]
  },
  {
   "cell_type": "code",
   "execution_count": 45,
   "id": "c0f13838",
   "metadata": {},
   "outputs": [
    {
     "data": {
      "text/plain": [
       "array([[0.44483945, 0.7481015 , 0.15211825],\n",
       "       [0.68020426, 0.0293645 , 0.5       ],\n",
       "       [0.05320141, 0.84086561, 0.93319232]])"
      ]
     },
     "execution_count": 45,
     "metadata": {},
     "output_type": "execute_result"
    }
   ],
   "source": [
    "A"
   ]
  },
  {
   "cell_type": "code",
   "execution_count": null,
   "id": "5e83033a",
   "metadata": {},
   "outputs": [],
   "source": [
    "# How to create a random number between 3 and 4?"
   ]
  },
  {
   "cell_type": "code",
   "execution_count": 44,
   "id": "ff4c49cf",
   "metadata": {},
   "outputs": [],
   "source": [
    "A[1,2] = 0.5"
   ]
  },
  {
   "cell_type": "raw",
   "id": "1ca4d24a",
   "metadata": {},
   "source": [
    "Most of the operations work well with vectors. Suppose you wanted to see what the square roots of the first 5 primes were."
   ]
  },
  {
   "cell_type": "code",
   "execution_count": 48,
   "id": "72cbbe81",
   "metadata": {},
   "outputs": [
    {
     "data": {
      "text/plain": [
       "array([1, 2, 3, 4, 5])"
      ]
     },
     "execution_count": 48,
     "metadata": {},
     "output_type": "execute_result"
    }
   ],
   "source": [
    "primes = np.arange(1,6)\n",
    "primes"
   ]
  },
  {
   "cell_type": "code",
   "execution_count": 49,
   "id": "d54157db",
   "metadata": {},
   "outputs": [
    {
     "data": {
      "text/plain": [
       "array([1.        , 1.41421356, 1.73205081, 2.        , 2.23606798])"
      ]
     },
     "execution_count": 49,
     "metadata": {},
     "output_type": "execute_result"
    }
   ],
   "source": [
    "primes**(1/2) # acts component-wise"
   ]
  },
  {
   "cell_type": "code",
   "execution_count": 50,
   "id": "3c909f6b",
   "metadata": {},
   "outputs": [
    {
     "data": {
      "text/plain": [
       "array([ 1,  4,  9, 16, 25])"
      ]
     },
     "execution_count": 50,
     "metadata": {},
     "output_type": "execute_result"
    }
   ],
   "source": [
    "primes * primes # dot product"
   ]
  },
  {
   "cell_type": "raw",
   "id": "be9c0db7",
   "metadata": {},
   "source": [
    "To examine or use a single element in a vector, you need to supply its index. Python starts counting from 0. Hence primes[0] is the first element in the list of primes, primes[0] is the second, and so on."
   ]
  },
  {
   "cell_type": "code",
   "execution_count": null,
   "id": "5b445855",
   "metadata": {},
   "outputs": [],
   "source": [
    "primes[0], primes[2]"
   ]
  },
  {
   "cell_type": "code",
   "execution_count": 51,
   "id": "426ad444",
   "metadata": {},
   "outputs": [
    {
     "data": {
      "text/plain": [
       "array([3, 4])"
      ]
     },
     "execution_count": 51,
     "metadata": {},
     "output_type": "execute_result"
    }
   ],
   "source": [
    "# You can do many things with indexes:\n",
    "primes[2:4]"
   ]
  },
  {
   "cell_type": "code",
   "execution_count": 53,
   "id": "57ce4d13",
   "metadata": {},
   "outputs": [
    {
     "data": {
      "text/plain": [
       "4"
      ]
     },
     "execution_count": 53,
     "metadata": {},
     "output_type": "execute_result"
    }
   ],
   "source": [
    "primes[-2] # second element from the end"
   ]
  },
  {
   "cell_type": "code",
   "execution_count": 54,
   "id": "2058df68",
   "metadata": {},
   "outputs": [
    {
     "data": {
      "text/plain": [
       "array([4, 2])"
      ]
     },
     "execution_count": 54,
     "metadata": {},
     "output_type": "execute_result"
    }
   ],
   "source": [
    "primes[[3,1]]"
   ]
  },
  {
   "cell_type": "code",
   "execution_count": 55,
   "id": "165a2b58",
   "metadata": {},
   "outputs": [
    {
     "data": {
      "text/plain": [
       "array([False, False, False,  True,  True])"
      ]
     },
     "execution_count": 55,
     "metadata": {},
     "output_type": "execute_result"
    }
   ],
   "source": [
    "primes >3"
   ]
  },
  {
   "cell_type": "code",
   "execution_count": 56,
   "id": "ed98d199",
   "metadata": {},
   "outputs": [],
   "source": [
    "index = [0,1]"
   ]
  },
  {
   "cell_type": "code",
   "execution_count": 57,
   "id": "14d5c954",
   "metadata": {},
   "outputs": [
    {
     "data": {
      "text/plain": [
       "array([1, 2])"
      ]
     },
     "execution_count": 57,
     "metadata": {},
     "output_type": "execute_result"
    }
   ],
   "source": [
    "primes[index]"
   ]
  },
  {
   "cell_type": "code",
   "execution_count": null,
   "id": "bbb4c142",
   "metadata": {},
   "outputs": [],
   "source": []
  },
  {
   "cell_type": "markdown",
   "id": "e0aa9017",
   "metadata": {},
   "source": [
    "### Exercises"
   ]
  },
  {
   "cell_type": "raw",
   "id": "367a1186",
   "metadata": {},
   "source": [
    "1. Let \n",
    "x = np.array([1,2,3])\n",
    "y = np.array([6,5,4])\n",
    "Predict what will happen when the following pieces of code are run. Check your answer.\n",
    "a) x*2\n",
    "b) x * y\n",
    "c) x[1] * y[2]"
   ]
  },
  {
   "cell_type": "raw",
   "id": "e6dc226b",
   "metadata": {},
   "source": [
    "2. Let \n",
    "x = np.array([1,2,3])\n",
    "y = np.array([6,5,4])\n",
    "What is the value of x after each of the following commands? (Assume that each part starts with the values of x and y given above.)\n",
    "a) x + x\n",
    "b) x = x + x\n",
    "c) y = x + x\n",
    "d) x = x + 1"
   ]
  },
  {
   "cell_type": "raw",
   "id": "a0a41768",
   "metadata": {},
   "source": [
    "3. Use numPy to calculate the sum of the squares of all numbers from 1 to 100."
   ]
  },
  {
   "cell_type": "raw",
   "id": "282ed212",
   "metadata": {},
   "source": [
    "4. Let \n",
    "x = np.arange(10, 30, 2)\n",
    "a) What is the length of x?\n",
    "b) What is x[2]?\n",
    "c) What is x[1:5]?\n",
    "d) What is x[1:3*2]?\n",
    "e) What is x > 25?\n",
    "f) What is x[x > 25]?\n",
    "g) What is x[-1]?\n",
    "h) What is x[-1:-3]?"
   ]
  },
  {
   "cell_type": "raw",
   "id": "809136d6",
   "metadata": {},
   "source": [
    "5. Define the vector x containing all the numbers between 1 and 100 which can be divided by 3."
   ]
  },
  {
   "cell_type": "code",
   "execution_count": null,
   "id": "d8008903",
   "metadata": {},
   "outputs": [],
   "source": []
  },
  {
   "cell_type": "code",
   "execution_count": null,
   "id": "515c58da",
   "metadata": {},
   "outputs": [],
   "source": []
  }
 ],
 "metadata": {
  "kernelspec": {
   "display_name": "Python 3 (ipykernel)",
   "language": "python",
   "name": "python3"
  },
  "language_info": {
   "codemirror_mode": {
    "name": "ipython",
    "version": 3
   },
   "file_extension": ".py",
   "mimetype": "text/x-python",
   "name": "python",
   "nbconvert_exporter": "python",
   "pygments_lexer": "ipython3",
   "version": "3.9.12"
  }
 },
 "nbformat": 4,
 "nbformat_minor": 5
}
