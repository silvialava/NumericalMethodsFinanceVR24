{
 "cells": [
  {
   "cell_type": "markdown",
   "id": "0684e5e5",
   "metadata": {},
   "source": [
    "# Pricing of European Call and Put options with the COS method"
   ]
  },
  {
   "cell_type": "code",
   "execution_count": 1,
   "id": "0dc76c27",
   "metadata": {},
   "outputs": [],
   "source": [
    "import numpy as np\n",
    "import matplotlib.pyplot as plt\n",
    "import scipy.stats as st\n",
    "import time"
   ]
  },
  {
   "cell_type": "code",
   "execution_count": 2,
   "id": "80032fb9",
   "metadata": {},
   "outputs": [],
   "source": [
    "def CallPutOptionPriceCOSMthd(cf, CP, S0, r, tau, K, N, L):\n",
    "    \n",
    "    # cf   - Characteristic function is a function, in the book denoted by \\varphi\n",
    "    # CP   - C for call and P for put\n",
    "    # S0   - Initial stock price\n",
    "    # r    - Interest rate (constant)\n",
    "    # tau  - Time to maturity\n",
    "    # K    - List of strikes\n",
    "    # N    - Number of expansion terms\n",
    "    # L    - Size of truncation domain (typ.:L=8 or L=10)\n",
    "\n",
    "    # Reshape K to become a column vector\n",
    "    K = np.array(K).reshape([len(K),1])\n",
    "    \n",
    "    # Assigning i=sqrt(-1)\n",
    "    i = complex(0.0,1.0) \n",
    "    \n",
    "    x0 = np.log(S0 / K)   \n",
    "    \n",
    "    # Truncation domain\n",
    "    a = 0.0 - L * np.sqrt(tau)\n",
    "    b = 0.0 + L * np.sqrt(tau)\n",
    "    \n",
    "    # Summation from k = 0 to k=N-1\n",
    "    k = np.linspace(0,N-1,N).reshape([N,1])  \n",
    "    u = k * np.pi / (b - a);  \n",
    "\n",
    "    # Determine coefficients for put prices  \n",
    "    H_k = CallPutCoefficients(CP,a,b,k)\n",
    "       \n",
    "    mat = np.exp(i * np.outer((x0 - a) , u))\n",
    "\n",
    "    temp = cf(u) * H_k \n",
    "    temp[0] = 0.5 * temp[0]    \n",
    "    \n",
    "    value = np.exp(-r * tau) * K * np.real(mat.dot(temp))\n",
    "         \n",
    "    return value"
   ]
  },
  {
   "cell_type": "code",
   "execution_count": 3,
   "id": "ba91fc31",
   "metadata": {},
   "outputs": [],
   "source": [
    "\"\"\" \n",
    "Determine coefficients for put prices \n",
    "\"\"\"\n",
    "def CallPutCoefficients(CP,a,b,k):\n",
    "    if str(CP).lower()== \"c\" or str(CP).lower()== \"1\":                  \n",
    "        c = 0.0\n",
    "        d = b\n",
    "        coef = Chi_Psi(a,b,c,d,k)\n",
    "        Chi_k = coef[\"chi\"]\n",
    "        Psi_k = coef[\"psi\"]\n",
    "        if a < b and b < 0.0:\n",
    "            H_k = np.zeros([len(k),1])\n",
    "        else:\n",
    "            H_k = 2.0 / (b - a) * (Chi_k - Psi_k)  \n",
    "        \n",
    "    elif str(CP).lower()== \"p\" or str(CP).lower()== \"-1\":\n",
    "        c = a\n",
    "        d = 0.0\n",
    "        coef = Chi_Psi(a,b,c,d,k)\n",
    "        Chi_k = coef[\"chi\"]\n",
    "        Psi_k = coef[\"psi\"]\n",
    "        H_k = 2.0 / (b - a) * (- Chi_k + Psi_k)               \n",
    "    \n",
    "    return H_k    "
   ]
  },
  {
   "cell_type": "code",
   "execution_count": 4,
   "id": "dad50526",
   "metadata": {},
   "outputs": [],
   "source": [
    "def Chi_Psi(a,b,c,d,k):\n",
    "    psi = np.sin(k * np.pi * (d - a) / (b - a)) - np.sin(k * np.pi * (c - a)/(b - a))\n",
    "    psi[1:] = psi[1:] * (b - a) / (k[1:] * np.pi)\n",
    "    psi[0] = d - c\n",
    "    \n",
    "    chi = 1.0 / (1.0 + np.power((k * np.pi / (b - a)) , 2.0)) \n",
    "    expr1 = np.cos(k * np.pi * (d - a)/(b - a)) * np.exp(d)  - np.cos(k * np.pi \n",
    "                  * (c - a) / (b - a)) * np.exp(c)\n",
    "    expr2 = k * np.pi / (b - a) * np.sin(k * np.pi * \n",
    "                        (d - a) / (b - a))   - k * np.pi / (b - a) * np.sin(k \n",
    "                        * np.pi * (c - a) / (b - a)) * np.exp(c)\n",
    "    chi = chi * (expr1 + expr2)\n",
    "    \n",
    "    value = {\"chi\": chi,\"psi\": psi }\n",
    "   \n",
    "    return value"
   ]
  },
  {
   "cell_type": "code",
   "execution_count": 5,
   "id": "9b154442",
   "metadata": {},
   "outputs": [],
   "source": [
    "def BS_Call_Option_Price(CP,S_0,K,sigma,tau,r):\n",
    "    #Black-Scholes Call option price\n",
    "    \n",
    "    cp = str(CP).lower()\n",
    "    \n",
    "    K = np.array(K).reshape([len(K),1])\n",
    "    d1    = (np.log(S_0 / K) + (r + 0.5 * np.power(sigma,2.0)) * tau) / float(sigma * np.sqrt(tau))\n",
    "    d2    = d1 - sigma * np.sqrt(tau)\n",
    "    \n",
    "    if cp == \"c\" or cp == \"1\":\n",
    "        value = st.norm.cdf(d1) * S_0 - st.norm.cdf(d2) * K * np.exp(-r * tau)\n",
    "    \n",
    "    elif cp == \"p\" or cp ==\"-1\":\n",
    "        value = st.norm.cdf(-d2) * K * np.exp(-r * tau) - st.norm.cdf(-d1)*S_0\n",
    "    \n",
    "    return value"
   ]
  },
  {
   "cell_type": "code",
   "execution_count": 6,
   "id": "9c79bd66",
   "metadata": {},
   "outputs": [],
   "source": [
    "# Define the parameters\n",
    "\n",
    "i = complex(0.0,1.0)\n",
    "CP = \"c\"\n",
    "S0 = 100.0\n",
    "r = 0.1\n",
    "tau = 0.1\n",
    "sigma = 0.25\n",
    "K = [80.0, 100.0, 120.0]\n",
    "N = 32\n",
    "L = 10"
   ]
  },
  {
   "cell_type": "code",
   "execution_count": 7,
   "id": "34cc9b2f",
   "metadata": {},
   "outputs": [],
   "source": [
    "# Definition of the characteristic function for GBM, this is an input for the COS method\n",
    "# Note that the Chf does not include \"+iuX(t_0)\" as this coefficient\n",
    "# is already included in the evaluation\n",
    "# In the book we denote this function by \\varphi(u)\n",
    "\n",
    "cf = lambda u: np.exp((r - 0.5 * np.power(sigma,2.0)) * i * u * tau - 0.5 * np.power(sigma, 2.0) * np.power(u, 2.0) * tau)"
   ]
  },
  {
   "cell_type": "code",
   "execution_count": 8,
   "id": "38635f4a",
   "metadata": {},
   "outputs": [
    {
     "name": "stdout",
     "output_type": "stream",
     "text": [
      "It took 0.00018927812576293945 seconds to price.\n"
     ]
    }
   ],
   "source": [
    "# Timing results \n",
    "\n",
    "NoOfIterations = 100\n",
    "\n",
    "time_start = time.time() \n",
    "for k in range(0,NoOfIterations,1):\n",
    "    val_COS = CallPutOptionPriceCOSMthd(cf,CP,S0,r,tau,K,N,L)\n",
    "time_stop = time.time()\n",
    "\n",
    "print(\"It took {0} seconds to price.\".format((time_stop-time_start)/float(NoOfIterations)))"
   ]
  },
  {
   "cell_type": "code",
   "execution_count": 9,
   "id": "cbdb96b8",
   "metadata": {},
   "outputs": [],
   "source": [
    "# Evaluate analytic Black Scholes equation\n",
    "val_Exact = BS_Call_Option_Price(CP, S0, K, sigma, tau, r)"
   ]
  },
  {
   "cell_type": "code",
   "execution_count": 10,
   "id": "2550b101",
   "metadata": {},
   "outputs": [
    {
     "data": {
      "image/png": "[encoded data removed]",
      "text/plain": [
       "<Figure size 432x288 with 1 Axes>"
      ]
     },
     "metadata": {
      "needs_background": "light"
     },
     "output_type": "display_data"
    }
   ],
   "source": [
    "plt.plot(K,val_COS)\n",
    "plt.plot(K,val_Exact,'--')\n",
    "plt.xlabel(\"strike, K\")\n",
    "plt.ylabel(\"Option Price\")\n",
    "plt.legend([\"COS Price\",\"BS model\"])\n",
    "plt.grid()    "
   ]
  },
  {
   "cell_type": "code",
   "execution_count": 11,
   "id": "8dfa9d56",
   "metadata": {},
   "outputs": [
    {
     "name": "stdout",
     "output_type": "stream",
     "text": [
      "Abs error for strike 80.0 is equal to 7.44E-01\n",
      "Abs error for strike 100.0 is equal to 5.28E-01\n",
      "Abs error for strike 120.0 is equal to 8.13E-01\n"
     ]
    }
   ],
   "source": [
    "# Error computation\n",
    "\n",
    "error = []\n",
    "for i in range(0,len(K)):\n",
    "    error.append(np.abs(val_COS[i]-val_Exact[i])[0])\n",
    "    print(\"Abs error for strike {0} is equal to {1:.2E}\".format(K[i],error[i]))\n",
    "        \n"
   ]
  },
  {
   "cell_type": "code",
   "execution_count": null,
   "id": "2e5e5404",
   "metadata": {},
   "outputs": [],
   "source": []
  }
 ],
 "metadata": {
  "kernelspec": {
   "display_name": "Python 3 (ipykernel)",
   "language": "python",
   "name": "python3"
  },
  "language_info": {
   "codemirror_mode": {
    "name": "ipython",
    "version": 3
   },
   "file_extension": ".py",
   "mimetype": "text/x-python",
   "name": "python",
   "nbconvert_exporter": "python",
   "pygments_lexer": "ipython3",
   "version": "3.9.12"
  }
 },
 "nbformat": 4,
 "nbformat_minor": 5
}
